{
  "nbformat": 4,
  "nbformat_minor": 0,
  "metadata": {
    "colab": {
      "provenance": [],
      "include_colab_link": true
    },
    "kernelspec": {
      "name": "python3",
      "display_name": "Python 3"
    },
    "language_info": {
      "name": "python"
    }
  },
  "cells": [
    {
      "cell_type": "markdown",
      "metadata": {
        "id": "view-in-github",
        "colab_type": "text"
      },
      "source": [
        "<a href=\"https://colab.research.google.com/github/bejoy1775/Puzzle8/blob/main/PA2_Bejoy.ipynb\" target=\"_parent\"><img src=\"https://colab.research.google.com/assets/colab-badge.svg\" alt=\"Open In Colab\"/></a>"
      ]
    },
    {
      "cell_type": "markdown",
      "source": [
        "# PA2 - Naive Bayes Classification\n",
        "\n",
        "In this homework assignment, you will implement a simple Naive Bayes classifier and train/test it for predicting the new article types using the 20 newsgroup dataset. The objective is to classify documents into one of the 20 categories using a simple Naive Bayesian method.\n",
        "\n",
        "The following code is partially done. You need to complete all the code blocks that start with the **TODO** mark. Save a copy of this notebook on your file space, and complete your notebook. **Submit the finished notebook that shows all the results to D2L.**\n"
      ],
      "metadata": {
        "id": "_gRT2g1WD4MI"
      }
    },
    {
      "cell_type": "markdown",
      "source": [
        "\n",
        "## Data Analysis\n",
        "Let's fetch the dataset first. You can download it using a sci-kit learn dataset method as below."
      ],
      "metadata": {
        "id": "X_aNVFGAE166"
      }
    },
    {
      "cell_type": "code",
      "execution_count": 455,
      "metadata": {
        "id": "bfJMa8BhDy1J"
      },
      "outputs": [],
      "source": [
        "from sklearn.datasets import fetch_20newsgroups\n",
        "\n",
        "data_tr = fetch_20newsgroups(subset='train', shuffle=True, random_state=42)"
      ]
    },
    {
      "cell_type": "markdown",
      "source": [
        "Let's inspect what we have. `dir()` is a Python built-in function that lists all the names in the current local scope of the given object."
      ],
      "metadata": {
        "id": "Wnp_0-DCFB2j"
      }
    },
    {
      "cell_type": "code",
      "source": [
        "dir(data_tr)"
      ],
      "metadata": {
        "id": "6JfbpzlxE8Np",
        "colab": {
          "base_uri": "https://localhost:8080/"
        },
        "outputId": "d22c2906-2927-4226-c710-0c45750591a0"
      },
      "execution_count": 456,
      "outputs": [
        {
          "output_type": "execute_result",
          "data": {
            "text/plain": [
              "['DESCR', 'data', 'filenames', 'target', 'target_names']"
            ]
          },
          "metadata": {},
          "execution_count": 456
        }
      ]
    },
    {
      "cell_type": "markdown",
      "source": [
        "Let's print out the first three examples to see how each record looks like."
      ],
      "metadata": {
        "id": "imfn1YqSFe9I"
      }
    },
    {
      "cell_type": "code",
      "source": [
        "data_tr.data[:3]"
      ],
      "metadata": {
        "id": "TQ0RYIWyFJgQ",
        "colab": {
          "base_uri": "https://localhost:8080/"
        },
        "outputId": "ffd69a02-dc62-4f56-b9b1-33e1dd39ac9a"
      },
      "execution_count": 457,
      "outputs": [
        {
          "output_type": "execute_result",
          "data": {
            "text/plain": [
              "[\"From: lerxst@wam.umd.edu (where's my thing)\\nSubject: WHAT car is this!?\\nNntp-Posting-Host: rac3.wam.umd.edu\\nOrganization: University of Maryland, College Park\\nLines: 15\\n\\n I was wondering if anyone out there could enlighten me on this car I saw\\nthe other day. It was a 2-door sports car, looked to be from the late 60s/\\nearly 70s. It was called a Bricklin. The doors were really small. In addition,\\nthe front bumper was separate from the rest of the body. This is \\nall I know. If anyone can tellme a model name, engine specs, years\\nof production, where this car is made, history, or whatever info you\\nhave on this funky looking car, please e-mail.\\n\\nThanks,\\n- IL\\n   ---- brought to you by your neighborhood Lerxst ----\\n\\n\\n\\n\\n\",\n",
              " \"From: guykuo@carson.u.washington.edu (Guy Kuo)\\nSubject: SI Clock Poll - Final Call\\nSummary: Final call for SI clock reports\\nKeywords: SI,acceleration,clock,upgrade\\nArticle-I.D.: shelley.1qvfo9INNc3s\\nOrganization: University of Washington\\nLines: 11\\nNNTP-Posting-Host: carson.u.washington.edu\\n\\nA fair number of brave souls who upgraded their SI clock oscillator have\\nshared their experiences for this poll. Please send a brief message detailing\\nyour experiences with the procedure. Top speed attained, CPU rated speed,\\nadd on cards and adapters, heat sinks, hour of usage per day, floppy disk\\nfunctionality with 800 and 1.4 m floppies are especially requested.\\n\\nI will be summarizing in the next two days, so please add to the network\\nknowledge base if you have done the clock upgrade and haven't answered this\\npoll. Thanks.\\n\\nGuy Kuo <guykuo@u.washington.edu>\\n\",\n",
              " 'From: twillis@ec.ecn.purdue.edu (Thomas E Willis)\\nSubject: PB questions...\\nOrganization: Purdue University Engineering Computer Network\\nDistribution: usa\\nLines: 36\\n\\nwell folks, my mac plus finally gave up the ghost this weekend after\\nstarting life as a 512k way back in 1985.  sooo, i\\'m in the market for a\\nnew machine a bit sooner than i intended to be...\\n\\ni\\'m looking into picking up a powerbook 160 or maybe 180 and have a bunch\\nof questions that (hopefully) somebody can answer:\\n\\n* does anybody know any dirt on when the next round of powerbook\\nintroductions are expected?  i\\'d heard the 185c was supposed to make an\\nappearence \"this summer\" but haven\\'t heard anymore on it - and since i\\ndon\\'t have access to macleak, i was wondering if anybody out there had\\nmore info...\\n\\n* has anybody heard rumors about price drops to the powerbook line like the\\nones the duo\\'s just went through recently?\\n\\n* what\\'s the impression of the display on the 180?  i could probably swing\\na 180 if i got the 80Mb disk rather than the 120, but i don\\'t really have\\na feel for how much \"better\" the display is (yea, it looks great in the\\nstore, but is that all \"wow\" or is it really that good?).  could i solicit\\nsome opinions of people who use the 160 and 180 day-to-day on if its worth\\ntaking the disk size and money hit to get the active display?  (i realize\\nthis is a real subjective question, but i\\'ve only played around with the\\nmachines in a computer store breifly and figured the opinions of somebody\\nwho actually uses the machine daily might prove helpful).\\n\\n* how well does hellcats perform?  ;)\\n\\nthanks a bunch in advance for any info - if you could email, i\\'ll post a\\nsummary (news reading time is at a premium with finals just around the\\ncorner... :( )\\n--\\nTom Willis  \\\\  twillis@ecn.purdue.edu    \\\\    Purdue Electrical Engineering\\n---------------------------------------------------------------------------\\n\"Convictions are more dangerous enemies of truth than lies.\"  - F. W.\\nNietzsche\\n']"
            ]
          },
          "metadata": {},
          "execution_count": 457
        }
      ]
    },
    {
      "cell_type": "code",
      "source": [
        "data_tr.target_names"
      ],
      "metadata": {
        "id": "g_bbWgYOGEV5",
        "colab": {
          "base_uri": "https://localhost:8080/"
        },
        "outputId": "3b04d017-fb17-475a-a77a-ac846fc25ca5"
      },
      "execution_count": 458,
      "outputs": [
        {
          "output_type": "execute_result",
          "data": {
            "text/plain": [
              "['alt.atheism',\n",
              " 'comp.graphics',\n",
              " 'comp.os.ms-windows.misc',\n",
              " 'comp.sys.ibm.pc.hardware',\n",
              " 'comp.sys.mac.hardware',\n",
              " 'comp.windows.x',\n",
              " 'misc.forsale',\n",
              " 'rec.autos',\n",
              " 'rec.motorcycles',\n",
              " 'rec.sport.baseball',\n",
              " 'rec.sport.hockey',\n",
              " 'sci.crypt',\n",
              " 'sci.electronics',\n",
              " 'sci.med',\n",
              " 'sci.space',\n",
              " 'soc.religion.christian',\n",
              " 'talk.politics.guns',\n",
              " 'talk.politics.mideast',\n",
              " 'talk.politics.misc',\n",
              " 'talk.religion.misc']"
            ]
          },
          "metadata": {},
          "execution_count": 458
        }
      ]
    },
    {
      "cell_type": "markdown",
      "source": [
        "As you can see, `.data` contains all the textual data, and `.target` has the corresponding label (i.e., news category). We have 20 classes as above, and the target is the integer number corresponding to the names.\n",
        "\n",
        "Let's plot a histogram with the target data to see its distribution."
      ],
      "metadata": {
        "id": "x379pe6fFlz2"
      }
    },
    {
      "cell_type": "code",
      "source": [
        "import matplotlib.pyplot as plt\n",
        "\n",
        "plt.hist(data_tr.target, bins=len(data_tr.target_names))\n",
        "plt.title(\"20 Newsgroup category frequence\")\n",
        "plt.show()"
      ],
      "metadata": {
        "id": "wkIUxmQ8Fs8u",
        "colab": {
          "base_uri": "https://localhost:8080/",
          "height": 452
        },
        "outputId": "fd946162-eb1c-464b-8eb0-f4a81705861c"
      },
      "execution_count": 459,
      "outputs": [
        {
          "output_type": "display_data",
          "data": {
            "text/plain": [
              "<Figure size 640x480 with 1 Axes>"
            ],
            "image/png": "[encoded data removed]"
          },
          "metadata": {}
        }
      ]
    },
    {
      "cell_type": "markdown",
      "source": [
        "## Text preprocessing\n",
        "\n",
        "From this section, you will complete the unfinished code to make it run as a NB classifier for the newgroup category prediction. First part is text preprocessing.\n",
        "\n",
        "### Filtering of Stopwords and Tokenizing\n",
        "\n",
        "You will remove stopwords from the raw texts. *Stopwords* are a set of most frequently used words in any language, such as 'a', 'you', 'I', and 'will'. These are most likely function words that are not useful information in document classification.\n",
        "\n",
        "Next, the given texts will be tokenized; that is, to split a sentence into an array of words by whitespace. After that, we can compute the different probabilities over words.\n",
        "\n",
        "So, you will write a simple text preprocessing function that should:\n",
        "- convert a string to lowercase\n",
        "- filter stopwords, and\n",
        "- tokenize it simply by whitespace.\n",
        "\n",
        "We can use the NLTK stopwords as below, which is a commonly used Python library for NLP:"
      ],
      "metadata": {
        "id": "XhzMTtYmGWH6"
      }
    },
    {
      "cell_type": "code",
      "source": [
        "import nltk\n",
        "from nltk.corpus import stopwords\n",
        "nltk.download('stopwords')\n",
        "sw_list = stopwords.words('english')\n",
        "sw_list[:10]  # show some examples"
      ],
      "metadata": {
        "id": "6ANXAhP-GVLA",
        "colab": {
          "base_uri": "https://localhost:8080/"
        },
        "outputId": "a28a1a11-3e30-4414-a9ba-e4b29e58c42f"
      },
      "execution_count": 460,
      "outputs": [
        {
          "output_type": "stream",
          "name": "stderr",
          "text": [
            "[nltk_data] Downloading package stopwords to /root/nltk_data...\n",
            "[nltk_data]   Package stopwords is already up-to-date!\n"
          ]
        },
        {
          "output_type": "execute_result",
          "data": {
            "text/plain": [
              "['i', 'me', 'my', 'myself', 'we', 'our', 'ours', 'ourselves', 'you', \"you're\"]"
            ]
          },
          "metadata": {},
          "execution_count": 460
        }
      ]
    },
    {
      "cell_type": "markdown",
      "source": [
        "**TODO -- Complete the following function; this function takes a string and returns a list of words in lowercase which are not in the stopwords list.**"
      ],
      "metadata": {
        "id": "q0rWUPVkHn8u"
      }
    },
    {
      "cell_type": "code",
      "source": [
        "import string\n",
        "\n",
        "def text_prep(s):\n",
        "  text = s.lower()\n",
        "  tokenize_text = text.split()\n",
        "  filtered_punc = [word.strip(string.punctuation) for word in tokenize_text]\n",
        "  filtered_text = [x for x in filtered_punc if x not in sw_list]\n",
        "  filter_empty = [x for x in filtered_text if len(x) > 2]\n",
        "\n",
        "  return filter_empty\n"
      ],
      "metadata": {
        "id": "X3yo7MqhdoUy"
      },
      "execution_count": 461,
      "outputs": []
    },
    {
      "cell_type": "markdown",
      "source": [
        "**TODO -- Apply the function `text_prep` on `data_tr.data` and append the outputs to `data_tr_prep`, which will be a list of documents where each document represented by a list of words.**"
      ],
      "metadata": {
        "id": "83pHkRYWIG1r"
      }
    },
    {
      "cell_type": "code",
      "source": [
        "data_tr_prep = [text_prep(x) for x in data_tr.data]"
      ],
      "metadata": {
        "id": "Ns4RHyxRIJUB"
      },
      "execution_count": 462,
      "outputs": []
    },
    {
      "cell_type": "code",
      "source": [
        "data_tr_prep[0]"
      ],
      "metadata": {
        "colab": {
          "base_uri": "https://localhost:8080/"
        },
        "id": "vuQpolp79FcX",
        "outputId": "8fcad4ad-c919-4ed0-ab32-6782375abe31"
      },
      "execution_count": 463,
      "outputs": [
        {
          "output_type": "execute_result",
          "data": {
            "text/plain": [
              "['lerxst@wam.umd.edu',\n",
              " \"where's\",\n",
              " 'thing',\n",
              " 'subject',\n",
              " 'car',\n",
              " 'nntp-posting-host',\n",
              " 'rac3.wam.umd.edu',\n",
              " 'organization',\n",
              " 'university',\n",
              " 'maryland',\n",
              " 'college',\n",
              " 'park',\n",
              " 'lines',\n",
              " 'wondering',\n",
              " 'anyone',\n",
              " 'could',\n",
              " 'enlighten',\n",
              " 'car',\n",
              " 'saw',\n",
              " 'day',\n",
              " '2-door',\n",
              " 'sports',\n",
              " 'car',\n",
              " 'looked',\n",
              " 'late',\n",
              " '60s',\n",
              " 'early',\n",
              " '70s',\n",
              " 'called',\n",
              " 'bricklin',\n",
              " 'doors',\n",
              " 'really',\n",
              " 'small',\n",
              " 'addition',\n",
              " 'front',\n",
              " 'bumper',\n",
              " 'separate',\n",
              " 'rest',\n",
              " 'body',\n",
              " 'know',\n",
              " 'anyone',\n",
              " 'tellme',\n",
              " 'model',\n",
              " 'name',\n",
              " 'engine',\n",
              " 'specs',\n",
              " 'years',\n",
              " 'production',\n",
              " 'car',\n",
              " 'made',\n",
              " 'history',\n",
              " 'whatever',\n",
              " 'info',\n",
              " 'funky',\n",
              " 'looking',\n",
              " 'car',\n",
              " 'please',\n",
              " 'e-mail',\n",
              " 'thanks',\n",
              " 'brought',\n",
              " 'neighborhood',\n",
              " 'lerxst']"
            ]
          },
          "metadata": {},
          "execution_count": 463
        }
      ]
    },
    {
      "cell_type": "markdown",
      "source": [
        "`data_tr_prep[0]` should print a list of words similar to the following list:\n",
        "```\n",
        "['from:',\n",
        " 'lerxst@wam.umd.edu',\n",
        " \"(where's\",\n",
        " 'thing)',\n",
        " 'subject:',\n",
        " 'car',\n",
        " 'this!?',\n",
        " 'nntp-posting-host:',\n",
        " 'rac3.wam.umd.edu',\n",
        " 'organization:',\n",
        " 'university',\n",
        " 'maryland,',\n",
        " ...\n",
        "]\n",
        "```"
      ],
      "metadata": {
        "id": "yIlV6Jd2Ildd"
      }
    },
    {
      "cell_type": "markdown",
      "source": [
        "## Build a Vocabulary\n",
        "\n",
        "Now we need to build a vocabulary which contains a fixed number of unique words. Only the words in the vocabulary will be used in the prediction process.\n",
        "\n",
        "Let's set a reasonable size of vocabulary (i.e., V = 10000)\n",
        "\n",
        "We will use a Python class `Counter` to count all the words appear in the entire *training* dataset. This counter is a dictionary of key-value pairs; in our case, the counter for building a vocabulary will be a dictionary of (word-frequency) pairs.\n"
      ],
      "metadata": {
        "id": "QVgHMlUPIooI"
      }
    },
    {
      "cell_type": "code",
      "source": [
        "from collections import Counter, defaultdict\n",
        "V = 144000\n",
        "C = len(data_tr.target_names)\n",
        "cnt_words = Counter()\n",
        "for d in data_tr_prep:\n",
        "  cnt_words.update(d)\n"
      ],
      "metadata": {
        "id": "rTvdr1sVIVux"
      },
      "execution_count": 464,
      "outputs": []
    },
    {
      "cell_type": "markdown",
      "source": [
        "`.most_common(n)` will return the n most frequent words in the counter, as below: Let's not worry about the punctuation words for now."
      ],
      "metadata": {
        "id": "oYWLFF5yJVYy"
      }
    },
    {
      "cell_type": "code",
      "source": [
        "cnt_words.most_common(20)"
      ],
      "metadata": {
        "id": "R5rfickyJShD",
        "colab": {
          "base_uri": "https://localhost:8080/"
        },
        "outputId": "6e867ea2-5829-4e50-e279-66116ab63eb8"
      },
      "execution_count": 465,
      "outputs": [
        {
          "output_type": "execute_result",
          "data": {
            "text/plain": [
              "[('subject', 12253),\n",
              " ('lines', 11820),\n",
              " ('organization', 11185),\n",
              " ('would', 8874),\n",
              " ('one', 8654),\n",
              " ('writes', 7836),\n",
              " ('article', 6754),\n",
              " ('people', 5833),\n",
              " ('like', 5760),\n",
              " ('university', 5544),\n",
              " ('know', 5116),\n",
              " ('get', 4943),\n",
              " ('nntp-posting-host', 4781),\n",
              " ('think', 4503),\n",
              " ('also', 4296),\n",
              " ('use', 4155),\n",
              " ('new', 3922),\n",
              " ('time', 3865),\n",
              " ('good', 3719),\n",
              " (\"i'm\", 3697)]"
            ]
          },
          "metadata": {},
          "execution_count": 465
        }
      ]
    },
    {
      "cell_type": "markdown",
      "source": [
        "Build mappings between tokens (words) and their index numbers.\n",
        "\n",
        "We create a data structure for the vocabulary of `V` words. You can use `cnt_words.most_common(V)` to get the top V most frequent words.\n",
        "\n",
        "`tok2idx` should map a token to its index number and `idx2tok` should be a list of words in the frequency order."
      ],
      "metadata": {
        "id": "My4nU_DxJkAo"
      }
    },
    {
      "cell_type": "code",
      "source": [
        "idx2tok = list()\n",
        "tok2idx = dict()\n",
        "\n",
        "for i, (t, f) in enumerate(cnt_words.most_common(V)):\n",
        "    idx2tok.append(t)\n",
        "    tok2idx[t] = i"
      ],
      "metadata": {
        "id": "87SeylscJiLg"
      },
      "execution_count": 466,
      "outputs": []
    },
    {
      "cell_type": "markdown",
      "source": [
        "## Training a NB Classifier\n",
        "\n",
        "Naive Bayes classifier is a simple conditional probability model based on applying Bayes' theorem with strong feature independence assumption. For more details, you should carefully read the lecture slides.\n",
        "\n",
        "In essense, we need to build a classifier that computes the following:\n",
        "\n",
        "$$argmax_{c\\in C} P(c)\\prod_{w\\in d} P(w|c)$$\n",
        "\n",
        "That is, for each class $c$, we compute the product of the class prior $P(c)$ and the conditional probabilities of words given the class $P(w|c)$ in a document $d$.\n",
        "\n",
        "To do this, we need to estimate the prior class probabilities $P(c)$ and the conditional probabilities $P(w|c)$. We will use the normalized frequencies to estimate these probabilities.\n",
        "\n",
        "For example, $P(c=rec.autos)$ can be estimated by the number of documents that belong to the class divided it by the total number of documents.\n",
        "\n",
        "Likewise, $P(w=car|c=rec.autos)$ can be estimated by the fraction of the word $w$ appears among all words in documents of the class $c$.\n",
        "\n",
        "To handle the zero probability issue, you should also apply the 'add-1' smoothing. See the lecture slides.\n",
        "\n",
        "Now, the following Numpy arrays (i.e, `cond_prob` and `prior_prob`) will contain the estimated probabilities."
      ],
      "metadata": {
        "id": "NBNYQlBJKHVV"
      }
    },
    {
      "cell_type": "code",
      "source": [
        "import numpy as np\n",
        "\n",
        "cond_prob = np.zeros((V, C))\n",
        "prior_prob = np.zeros((C))"
      ],
      "metadata": {
        "id": "hZXchpeeJmzV"
      },
      "execution_count": 467,
      "outputs": []
    },
    {
      "cell_type": "markdown",
      "source": [
        "**TODO -- Increment the counts while reading all the tokens in documents, and normalize them properly so that they can be use as the prior/conditional probabilities in a NB classifier.**"
      ],
      "metadata": {
        "id": "aYIyHnqZKMRG"
      }
    },
    {
      "cell_type": "code",
      "source": [
        "docCount = 0\n",
        "\n",
        "wordCount = np.ones((V, C), dtype = int)\n",
        "for d, c in zip(data_tr_prep, data_tr.target):\n",
        "  docCount = docCount + 1\n",
        "  prior_prob[c] = prior_prob[c] + 1\n",
        "  for t in d:\n",
        "    if t in tok2idx:\n",
        "      wordCount[tok2idx[t],c] = wordCount[tok2idx[t],c] + 1\n",
        "      # cond_prob[tok2idx[t],c] = cond_prob[tok2idx[t],c] + 1\n",
        "\n",
        "prior_prob = np.divide(prior_prob, docCount)\n",
        "\n",
        "for c in np.unique(data_tr.target):\n",
        "  for t in tok2idx:\n",
        "    if t in tok2idx:\n",
        "      cond_prob[tok2idx[t],c] = (wordCount[tok2idx[t],c] + 1) / (cnt_words[t] + len(idx2tok))\n"
      ],
      "metadata": {
        "id": "hjqaiHCTKKhL"
      },
      "execution_count": 468,
      "outputs": []
    },
    {
      "cell_type": "code",
      "source": [
        "prior_prob"
      ],
      "metadata": {
        "colab": {
          "base_uri": "https://localhost:8080/"
        },
        "id": "HynCwGzidY4n",
        "outputId": "d03be0cc-9c53-41cc-bab7-0c1b4b785fea"
      },
      "execution_count": 469,
      "outputs": [
        {
          "output_type": "execute_result",
          "data": {
            "text/plain": [
              "array([0.04242531, 0.05161747, 0.05223617, 0.05214778, 0.05108715,\n",
              "       0.05241294, 0.05170585, 0.05250133, 0.05285487, 0.05276648,\n",
              "       0.05303164, 0.05258971, 0.05223617, 0.05250133, 0.05241294,\n",
              "       0.05294326, 0.04825879, 0.04984974, 0.04109952, 0.03332155])"
            ]
          },
          "metadata": {},
          "execution_count": 469
        }
      ]
    },
    {
      "cell_type": "code",
      "source": [
        "cond_prob[10]"
      ],
      "metadata": {
        "colab": {
          "base_uri": "https://localhost:8080/"
        },
        "id": "2jxb1HxUcoKF",
        "outputId": "91a35ff4-40b5-49d7-d0e6-a9dc949c8957"
      },
      "execution_count": 470,
      "outputs": [
        {
          "output_type": "execute_result",
          "data": {
            "text/plain": [
              "array([0.00189115, 0.00154913, 0.00150219, 0.00166984, 0.0017369 ,\n",
              "       0.00147536, 0.00050967, 0.00132783, 0.00145524, 0.00143512,\n",
              "       0.00124735, 0.0019515 , 0.0016296 , 0.00194479, 0.00127418,\n",
              "       0.00293731, 0.00168325, 0.00313179, 0.00256176, 0.00166313])"
            ]
          },
          "metadata": {},
          "execution_count": 470
        }
      ]
    },
    {
      "cell_type": "markdown",
      "source": [
        "`prior_prob` should look something like this:\n",
        "\n",
        "```\n",
        "array([0.04242531, 0.05161747, 0.05223617, 0.05214778, 0.05108715,\n",
        "       0.05241294, 0.05170585, 0.05250133, 0.05285487, 0.05276648,\n",
        "       0.05303164, 0.05258971, 0.05223617, 0.05250133, 0.05241294,\n",
        "       0.05294326, 0.04825879, 0.04984974, 0.04109952, 0.03332155])\n",
        "```\n",
        "\n",
        "`cond_prob[10]` should look something like this:\n",
        "\n",
        "```\n",
        "array([0.00802263, 0.00404768, 0.00520794, 0.00410638, 0.00516728,\n",
        "       0.00250812, 0.00143359, 0.0081197 , 0.00944117, 0.00747272,\n",
        "       0.00482113, 0.00474687, 0.0053405 , 0.00616861, 0.00579096,\n",
        "       0.00451822, 0.00591574, 0.00497174, 0.00676319, 0.00629697])\n",
        "```"
      ],
      "metadata": {
        "id": "lzoio18TKMZ9"
      }
    },
    {
      "cell_type": "markdown",
      "source": [
        "## Inference\n",
        "\n",
        "You will test your classifier with unseen examples (test dataset).\n",
        "\n",
        "**TODO -- Apply `text_prep` on `data_ts` in the same way as you did earlier.**"
      ],
      "metadata": {
        "id": "55ABucFLKMj3"
      }
    },
    {
      "cell_type": "code",
      "source": [
        "data_ts = fetch_20newsgroups(subset='test', shuffle=True, random_state=42)\n",
        "data_ts_prep = []\n",
        "data_ts_prep = [text_prep(x) for x in data_ts.data]"
      ],
      "metadata": {
        "id": "tqKVCfMdKQrH"
      },
      "execution_count": 471,
      "outputs": []
    },
    {
      "cell_type": "code",
      "source": [
        "len(data_ts_prep)"
      ],
      "metadata": {
        "colab": {
          "base_uri": "https://localhost:8080/"
        },
        "id": "J2UWIMmTccsI",
        "outputId": "668257c4-b2a4-41f2-fa19-5fc803ab10eb"
      },
      "execution_count": 472,
      "outputs": [
        {
          "output_type": "execute_result",
          "data": {
            "text/plain": [
              "7532"
            ]
          },
          "metadata": {},
          "execution_count": 472
        }
      ]
    },
    {
      "cell_type": "markdown",
      "source": [],
      "metadata": {
        "id": "oXPjvRegccTD"
      }
    },
    {
      "cell_type": "markdown",
      "source": [
        "Now, *make a prediction*.\n",
        "\n",
        "For each test document, compute the \"argmax\" formula shown earlier. The argmax should tell you the class that maximizes the product of the prior and conditional probabilities.\n",
        "\n",
        "You should apply log to the product for computational stability and less expansive computation. Taking log will convert multiplication to addition.\n",
        "\n",
        "**TODO -- Complete the following codes for inference. You should completely understand the NB classifier example given in the 04-classification lecture slides. (Use the equations on page 31)**\n"
      ],
      "metadata": {
        "id": "nQxgiDhTKMrJ"
      }
    },
    {
      "cell_type": "code",
      "source": [
        "import math\n",
        "import numpy as np\n",
        "\n",
        "pred = []\n",
        "\n",
        "# TODO -- implement this for loop to make predictions\n",
        "\n",
        "\n",
        "for d, c in zip(data_ts_prep, data_ts.target):\n",
        "  p1 = -20000000\n",
        "  for c_i in range(len(data_ts.target_names)):\n",
        "    p2 = math.log(prior_prob[c_i])\n",
        "    for t in d:\n",
        "      if t in tok2idx:\n",
        "        p2 = p2 + math.log(cond_prob[tok2idx[t], c_i])\n",
        "\n",
        "    if p2 > p1:\n",
        "      p1 = p2\n",
        "      max_c = c_i\n",
        "\n",
        "  pred.append(max_c)"
      ],
      "metadata": {
        "id": "T-Q3sHVIKqg5"
      },
      "execution_count": 473,
      "outputs": []
    },
    {
      "cell_type": "code",
      "source": [
        "len(pred)"
      ],
      "metadata": {
        "colab": {
          "base_uri": "https://localhost:8080/"
        },
        "id": "q_br3VX_rryi",
        "outputId": "81323324-bb44-439e-f81c-08543cf56069"
      },
      "execution_count": 474,
      "outputs": [
        {
          "output_type": "execute_result",
          "data": {
            "text/plain": [
              "7532"
            ]
          },
          "metadata": {},
          "execution_count": 474
        }
      ]
    },
    {
      "cell_type": "markdown",
      "source": [
        "\n",
        "Once, you made all the predictions for the testing examples, you can run a evaluation metric for accuracy.\n",
        "\n",
        "If everything is correct, you should get around 70-77% accuracy.\n"
      ],
      "metadata": {
        "id": "IfIM9vFFKMuS"
      }
    },
    {
      "cell_type": "code",
      "source": [
        "from sklearn.metrics import accuracy_score\n",
        "accuracy_score(data_ts.target, pred)\n"
      ],
      "metadata": {
        "id": "2ycW8br9Kyj4",
        "colab": {
          "base_uri": "https://localhost:8080/"
        },
        "outputId": "13988d93-53cb-4c32-cb78-46d02e16eedb"
      },
      "execution_count": 475,
      "outputs": [
        {
          "output_type": "execute_result",
          "data": {
            "text/plain": [
              "0.7355284121083377"
            ]
          },
          "metadata": {},
          "execution_count": 475
        }
      ]
    },
    {
      "cell_type": "markdown",
      "source": [
        "You can do more and achieve even better results. (> 80%)"
      ],
      "metadata": {
        "id": "YhKiMBpdKMxJ"
      }
    }
  ]
}